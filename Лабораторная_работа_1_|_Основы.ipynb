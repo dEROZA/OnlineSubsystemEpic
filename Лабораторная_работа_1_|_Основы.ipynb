{
  "nbformat": 4,
  "nbformat_minor": 0,
  "metadata": {
    "colab": {
      "name": "Лабораторная работа #1 | Основы.ipynb",
      "provenance": [],
      "collapsed_sections": [],
      "authorship_tag": "ABX9TyPURhhVlI4YA6yW1rjuf0LM",
      "include_colab_link": true
    },
    "kernelspec": {
      "name": "python3",
      "display_name": "Python 3"
    },
    "language_info": {
      "name": "python"
    }
  },
  "cells": [
    {
      "cell_type": "markdown",
      "metadata": {
        "id": "view-in-github",
        "colab_type": "text"
      },
      "source": [
        "<a href=\"https://colab.research.google.com/github/dEROZA/OnlineSubsystemEpic/blob/master/%D0%9B%D0%B0%D0%B1%D0%BE%D1%80%D0%B0%D1%82%D0%BE%D1%80%D0%BD%D0%B0%D1%8F_%D1%80%D0%B0%D0%B1%D0%BE%D1%82%D0%B0_1_%7C_%D0%9E%D1%81%D0%BD%D0%BE%D0%B2%D1%8B.ipynb\" target=\"_parent\"><img src=\"https://colab.research.google.com/assets/colab-badge.svg\" alt=\"Open In Colab\"/></a>"
      ]
    },
    {
      "cell_type": "markdown",
      "metadata": {
        "id": "dPmGX52bea8Z"
      },
      "source": [
        "**Лабораторная работа #1 | Основы numpy, pytorch**\n",
        "\n",
        "> `Сформируем массив numpy, тензор нулевого ранга:`\n"
      ]
    },
    {
      "cell_type": "code",
      "metadata": {
        "colab": {
          "base_uri": "https://localhost:8080/"
        },
        "id": "SopCkk10egyg",
        "outputId": "e5cc6347-6464-454e-9643-50950f45062b"
      },
      "source": [
        "import numpy as np\n",
        "x = np.array(200) \n",
        "print(x.ndim)"
      ],
      "execution_count": null,
      "outputs": [
        {
          "output_type": "stream",
          "text": [
            "0\n"
          ],
          "name": "stdout"
        }
      ]
    },
    {
      "cell_type": "markdown",
      "metadata": {
        "id": "68e1jLWsgA-k"
      },
      "source": [
        "> `Сформируем массив numpy, тензор первого ранга:`"
      ]
    },
    {
      "cell_type": "code",
      "metadata": {
        "colab": {
          "base_uri": "https://localhost:8080/"
        },
        "id": "IAYa0MG-gHwI",
        "outputId": "6d1be8aa-1d18-419d-e488-408cfa99af0f"
      },
      "source": [
        "import numpy as np\n",
        "y = np.array([1, 2, 3, 4, 5, 6])\n",
        "print(y.ndim)"
      ],
      "execution_count": null,
      "outputs": [
        {
          "output_type": "stream",
          "text": [
            "1\n"
          ],
          "name": "stdout"
        }
      ]
    },
    {
      "cell_type": "markdown",
      "metadata": {
        "id": "zdwIGdoDgYYg"
      },
      "source": [
        "> `Сформируем массив numpy, тензор второго ранга:`"
      ]
    },
    {
      "cell_type": "code",
      "metadata": {
        "colab": {
          "base_uri": "https://localhost:8080/"
        },
        "id": "mcdThROogYtg",
        "outputId": "248802fb-cc97-45d3-bbae-a4bb3452b0fe"
      },
      "source": [
        "import numpy as np\n",
        "x = np.array([[1, 2, 3], [4,5,6], [4,5,6], [4,5,6]])\n",
        "print(x.ndim)"
      ],
      "execution_count": null,
      "outputs": [
        {
          "output_type": "stream",
          "text": [
            "2\n"
          ],
          "name": "stdout"
        }
      ]
    },
    {
      "cell_type": "markdown",
      "metadata": {
        "id": "BXsvfCGUgi1A"
      },
      "source": [
        "**Массивы. Основы линейной алгебры**\n",
        "\n",
        "> *Умножение матрицы на число* - это последовательное умножение каждого элемента матрицы на число.\n",
        "\n",
        "> *Сложение матриц* - это последовательное сложение элементов каждой из матриц, в случае если размерность матриц совпадает. Для *разности* двух матриц - каждый элемент новой матрицы будет равен поэлементной разности двух других матриц."
      ]
    },
    {
      "cell_type": "markdown",
      "metadata": {
        "id": "urKsERGWhldq"
      },
      "source": [
        "`Пример кода умножения матрицы на число и сложения матриц:`\n",
        "\n",
        "\n"
      ]
    },
    {
      "cell_type": "code",
      "metadata": {
        "colab": {
          "base_uri": "https://localhost:8080/"
        },
        "id": "jUEUv9ewgi8I",
        "outputId": "c5c2bb89-970d-46f0-d347-8159cf3d5fdb"
      },
      "source": [
        "a = np.eye(3, 4, 0, int)\n",
        "b = np.eye(3, 4, 1, int)\n",
        "c = 2*a + b \n",
        "print(c)"
      ],
      "execution_count": null,
      "outputs": [
        {
          "output_type": "stream",
          "text": [
            "[[2 1 0 0]\n",
            " [0 2 1 0]\n",
            " [0 0 2 1]]\n"
          ],
          "name": "stdout"
        }
      ]
    },
    {
      "cell_type": "markdown",
      "metadata": {
        "id": "zAdenNXqh69_"
      },
      "source": [
        "**Скалярное произведение векторов**\n",
        "\n",
        "> *Длинна вектора* равна квадратному корню из суммы квадратов элементов вектора.\n",
        "\n",
        "> *Скалярное произведение векторов* (а, b), - это число(скаляр) равный сумме произведений поэлементного умножения векторов. Или произведению длин векторов на косинус угла между ними.\n",
        "\n",
        "`Для реализации скалярного произведения векторов и произведения матриц одинакового размера  используется функция:`\n",
        "\n",
        "```\n",
        "# numpy.dot(ar, ar2) или другой формат записи : ar1.dot(ar2)\n",
        "```\n",
        "\n",
        "`Пример кода для вычисления скалярного произведения векторов:`"
      ]
    },
    {
      "cell_type": "code",
      "metadata": {
        "colab": {
          "base_uri": "https://localhost:8080/"
        },
        "id": "ATx6_CC5iiUd",
        "outputId": "44d1d747-28bf-44ef-c84d-435db8d4efa1"
      },
      "source": [
        "import numpy as np\n",
        "\n",
        "A = np.array([1,2,3,4])\n",
        "B = np.array([0,8,4,0])\n",
        "\n",
        "print(\n",
        "    \"Даны векторы: А = {} и Б = {}:\"\n",
        "      .format(A, B), \"\\n\"\n",
        ")\n",
        "print(\"Скалярное произведение (формат 1й):\", np.dot(A, B))\n",
        "print(\"Скалярное произведение (формат 2й):\", A.dot(B))"
      ],
      "execution_count": null,
      "outputs": [
        {
          "output_type": "stream",
          "text": [
            "Даны векторы: А = [1 2 3 4] и Б = [0 8 4 0]: \n",
            "\n",
            "Скалярное произведение (формат 1й): 28\n",
            "Скалярное произведение (формат 2й): 28\n"
          ],
          "name": "stdout"
        }
      ]
    },
    {
      "cell_type": "markdown",
      "metadata": {
        "id": "7nW32rEakidA"
      },
      "source": [
        "> *`Чему равно скалярное произведение векторов а = [4, 1, 8] и b = [4, 5, 6]?`*"
      ]
    },
    {
      "cell_type": "code",
      "metadata": {
        "colab": {
          "base_uri": "https://localhost:8080/"
        },
        "id": "f-GDCdTFkj43",
        "outputId": "c08a901f-bfad-4b9d-b808-5b08deda298b"
      },
      "source": [
        "import numpy as np\n",
        "\n",
        "A = np.array([4,1,8])\n",
        "B = np.array([4,5,6])\n",
        "\n",
        "print(\n",
        "    \"Даны векторы: А = {} и Б = {}:\"\n",
        "      .format(A, B), \"\\n\"\n",
        ")\n",
        "print(\"Скалярное произведение (формат 1й):\", np.dot(A, B))\n",
        "print(\"Скалярное произведение (формат 2й):\", A.dot(B))"
      ],
      "execution_count": null,
      "outputs": [
        {
          "output_type": "stream",
          "text": [
            "Даны векторы: А = [4 1 8] и Б = [4 5 6]: \n",
            "\n",
            "Скалярное произведение (формат 1й): 69\n",
            "Скалярное произведение (формат 2й): 69\n"
          ],
          "name": "stdout"
        }
      ]
    },
    {
      "cell_type": "markdown",
      "metadata": {
        "id": "f9c84NaClI2H"
      },
      "source": [
        "> *Векторное произведение векторов* [AxB], - это вектор равный произведению длин векторов на синус угла между ними.\n",
        "\n",
        "`В Python для реализации векторного произведения векторов  используется функция numpy.cross(ar1, ar2):`\n"
      ]
    },
    {
      "cell_type": "code",
      "metadata": {
        "colab": {
          "base_uri": "https://localhost:8080/"
        },
        "id": "qqMU5rwWlxCQ",
        "outputId": "5003cd48-2822-4310-f4de-03e5c7156a05"
      },
      "source": [
        "import numpy as np\n",
        "\n",
        "A = np.array([4,1,8])\n",
        "B = np.array([4,5,6])\n",
        "\n",
        "print(\n",
        "    \"Даны векторы: А = {} и Б = {}:\"\n",
        "      .format(A, B), \"\\n\"\n",
        ")\n",
        "print(\"Векторное произведение:\", np.cross(A, B))\n",
        "print(\"Скалярное произведение:\", A.dot(B))"
      ],
      "execution_count": null,
      "outputs": [
        {
          "output_type": "stream",
          "text": [
            "Даны векторы: А = [4 1 8] и Б = [4 5 6]: \n",
            "\n",
            "Векторное произведение: [-34   8  16]\n",
            "Скалярное произведение: 69\n"
          ],
          "name": "stdout"
        }
      ]
    },
    {
      "cell_type": "markdown",
      "metadata": {
        "id": "GxLZjCYemvFQ"
      },
      "source": [
        "**Произведение матриц**\n",
        "\n",
        "> Произведением двух матриц А и В называется матрица С, элемент которой, находящийся на пересечении i-й строки и j-го столбца, равен сумме произведений элементов i-й строки матрицы А на соответствующие (по порядку) элементы j-го столбца матрицы В."
      ]
    },
    {
      "cell_type": "code",
      "metadata": {
        "colab": {
          "base_uri": "https://localhost:8080/"
        },
        "id": "IT_BUJ-omvPH",
        "outputId": "2b3a1c7b-2d5b-44b6-e37c-6a420c101971"
      },
      "source": [
        "A = np.array([[1,2], [3,4]])\n",
        "print( \"\\nМассив A:\\n\", A)\n",
        "\n",
        "B = np.array([[1,2], [3,4]])\n",
        "print( \"\\nМассив B:\\n\", B)\n",
        "\n",
        "print(\"\\nМассив C:\\n\", A.dot(B))"
      ],
      "execution_count": null,
      "outputs": [
        {
          "output_type": "stream",
          "text": [
            "\n",
            "Массив A:\n",
            " [[1 2]\n",
            " [3 4]]\n",
            "\n",
            "Массив B:\n",
            " [[1 2]\n",
            " [3 4]]\n",
            "\n",
            "Массив C:\n",
            " [[ 7 10]\n",
            " [15 22]]\n"
          ],
          "name": "stdout"
        }
      ]
    },
    {
      "cell_type": "markdown",
      "metadata": {
        "id": "rkGPVrFwno2n"
      },
      "source": [
        "> Найдите произведение двух матриц.\n",
        "\n",
        "Первая матрица состоит из единиц, формат массива (5, 3); вторая матрица состоит из семерок, формат массива (3, 2). \n",
        "\n",
        "Сделайте вывод каждой матрицы и их произведения.\n",
        "\n",
        "Для корректной проверки кода, вывод текста и соответствующей ему матрицы реализуйте в  операторе print для каждой матрицы. Для переноса на следующую строку используйте \\n."
      ]
    },
    {
      "cell_type": "code",
      "metadata": {
        "colab": {
          "base_uri": "https://localhost:8080/"
        },
        "id": "pKhyZthcnpeX",
        "outputId": "e85d6def-d75c-4965-8c6d-d8e776ed899c"
      },
      "source": [
        "import numpy as np\n",
        "\n",
        "A = np.ones((5, 3))\n",
        "B = np.array([[7,7],[7,7],[7,7]])\n",
        "\n",
        "print(\"Массив A:\\n\", A, \"\\n\")\n",
        "print(\"Массив B:\\n\", B, \"\\n\")\n",
        "print(\"Массив C:\\n\", A.dot(B))"
      ],
      "execution_count": 119,
      "outputs": [
        {
          "output_type": "stream",
          "text": [
            "Массив A:\n",
            " [[1. 1. 1.]\n",
            " [1. 1. 1.]\n",
            " [1. 1. 1.]\n",
            " [1. 1. 1.]\n",
            " [1. 1. 1.]] \n",
            "\n",
            "Массив B:\n",
            " [[7 7]\n",
            " [7 7]\n",
            " [7 7]] \n",
            "\n",
            "Массив C:\n",
            " [[21. 21.]\n",
            " [21. 21.]\n",
            " [21. 21.]\n",
            " [21. 21.]\n",
            " [21. 21.]]\n"
          ],
          "name": "stdout"
        }
      ]
    },
    {
      "cell_type": "markdown",
      "metadata": {
        "id": "fx6G4_cNrirQ"
      },
      "source": [
        "**Базовая работа в PyTorch**"
      ]
    },
    {
      "cell_type": "code",
      "metadata": {
        "id": "MNzw3oETscBX"
      },
      "source": [
        "import torch # создаем экземпляр класса\n",
        "import random # как же без рандома то?!\n",
        "\n",
        "rnd = random.randint(0,9)"
      ],
      "execution_count": null,
      "outputs": []
    },
    {
      "cell_type": "markdown",
      "metadata": {
        "id": "6cUCQ4mmtftG"
      },
      "source": [
        "Создадим наш массив из тензоров 1 порядка, заполненного нулями:"
      ]
    },
    {
      "cell_type": "code",
      "metadata": {
        "id": "inA9wM2htfzF"
      },
      "source": [
        "x = torch.zeros([3,4])"
      ],
      "execution_count": null,
      "outputs": []
    },
    {
      "cell_type": "markdown",
      "metadata": {
        "id": "BUUoqjLptf72"
      },
      "source": [
        "Длаее приводятся базывые операции с тензорами: "
      ]
    },
    {
      "cell_type": "code",
      "metadata": {
        "colab": {
          "base_uri": "https://localhost:8080/"
        },
        "id": "SNFXxNfJtgB-",
        "outputId": "b7848dfd-f155-46e8-a513-84370f185d72"
      },
      "source": [
        "print(\"size:\\n\", x.size(), \"\\n\") # размер массива\n",
        "print(\"show 2nd stroke of tensor:\\n\", x[1], \"\\n\") # доступ ко второй строке тензоров массива\n",
        "print(\"show 1st element of 1st stroke of tensor:\\n\", x[0,0], \"\\n\") # формат доступа по типа СТОЛБЕЦ, СТРОКА\n",
        "print(\"show 2nd stroke of tensor (slice):\\n\", x[:1], \"\\n\") # доступ ко второй строке тензора массива\n",
        "print(\"add operation on tensors:\\n\", x+rnd, \"\\n\") # добавляем ко всем элементам массива тензоров скаляр 10\n",
        "print(\"add operation on tensor elements:\\n\", x[1,1]+423423, \"\\n\") # добавляем скаляр 10 к элементу(ам)\n",
        "print(\"pow operation tensor^2:\\n\", (x+10)**2, \"\\n\") # в квадрате, (x+10)**2 не x+10**2, хотя результат будет одинаковый!"
      ],
      "execution_count": 124,
      "outputs": [
        {
          "output_type": "stream",
          "text": [
            "size:\n",
            " torch.Size([3, 4]) \n",
            "\n",
            "show 2nd stroke of tensor:\n",
            " tensor([0., 0., 0., 0.]) \n",
            "\n",
            "show 1st element of 1st stroke of tensor:\n",
            " tensor(0.) \n",
            "\n",
            "show 2nd stroke of tensor (slice):\n",
            " tensor([[0., 0., 0., 0.]]) \n",
            "\n",
            "add operation on tensors:\n",
            " tensor([[8., 8., 8., 8.],\n",
            "        [8., 8., 8., 8.],\n",
            "        [8., 8., 8., 8.]]) \n",
            "\n",
            "add operation on tensor elements:\n",
            " tensor(423423.) \n",
            "\n",
            "pow operation tensor^2:\n",
            " tensor([[100., 100., 100., 100.],\n",
            "        [100., 100., 100., 100.],\n",
            "        [100., 100., 100., 100.]]) \n",
            "\n"
          ],
          "name": "stdout"
        }
      ]
    },
    {
      "cell_type": "markdown",
      "metadata": {
        "id": "TdVTx46G7j-2"
      },
      "source": [
        "Вопрос: какая операция с тензорами a, b\n",
        "\n",
        "```\n",
        "a = torch.ones([5,4])\n",
        "b = torch.Tensor([[1,2,3,4],[5,6,7,8],[9,10,11,12],[13,14,15,16],[17,18,19,20]])\n",
        "```\n",
        "позволяет получить следующий вывод?\n",
        "```\n",
        "tensor([\n",
        "  [0., 1., 1., 1.],\n",
        "  [1., 1., 1., 1.],\n",
        "  [1., 1., 1., 1.],\n",
        "  [1., 1., 1., 1.],\n",
        "  [1., 1., 1., 1.]\n",
        "])\n",
        "```"
      ]
    },
    {
      "cell_type": "markdown",
      "metadata": {
        "id": "pRL_GFFw613G"
      },
      "source": [
        "Ответ"
      ]
    },
    {
      "cell_type": "code",
      "metadata": {
        "colab": {
          "base_uri": "https://localhost:8080/"
        },
        "id": "eJzKj3hs618E",
        "outputId": "018e08ac-5243-4e06-a8f3-f0e07b70685a"
      },
      "source": [
        "a = torch.ones([5,4])\n",
        "b = torch.Tensor([[1,2,3,4], [5,6,7,8], [9,10,11,12], [13,14,15,16], [17,18,19,20]])\n",
        "print(\"Оperation a%b:\\n\", a%b)"
      ],
      "execution_count": 114,
      "outputs": [
        {
          "output_type": "stream",
          "text": [
            "Оperation a%b:\n",
            " tensor([[0., 1., 1., 1.],\n",
            "        [1., 1., 1., 1.],\n",
            "        [1., 1., 1., 1.],\n",
            "        [1., 1., 1., 1.],\n",
            "        [1., 1., 1., 1.]])\n"
          ],
          "name": "stdout"
        }
      ]
    },
    {
      "cell_type": "markdown",
      "metadata": {
        "id": "mp9v3t7d8hhl"
      },
      "source": [
        "Вопрос: какая операция с тензорами a, b:"
      ]
    },
    {
      "cell_type": "code",
      "metadata": {
        "id": "0fZtm8vk8jeK"
      },
      "source": [
        "a = torch.ones([5,4])\n",
        "b = torch.Tensor([[1,2,3,4], [5,6,7,8], [9,10,11,12], [13,14,15,16], [17,18,19,20]])"
      ],
      "execution_count": null,
      "outputs": []
    },
    {
      "cell_type": "markdown",
      "metadata": {
        "id": "q5ppQ4SM8lds"
      },
      "source": [
        "позволяет получить следующий вывод?\n",
        "```\n",
        "tensor([2., 3., 4., 5.])\n",
        "```"
      ]
    },
    {
      "cell_type": "code",
      "metadata": {
        "colab": {
          "base_uri": "https://localhost:8080/"
        },
        "id": "tMEWXklU8qA8",
        "outputId": "9648cdc8-e6b7-4c82-d176-7ff6e0c336d1"
      },
      "source": [
        "print(\"Оperation b[0]+a[2]:\", b[0]+a[2])"
      ],
      "execution_count": 111,
      "outputs": [
        {
          "output_type": "stream",
          "text": [
            "Оperation b[0]+a[2]: tensor([2., 3., 4., 5.])\n"
          ],
          "name": "stdout"
        }
      ]
    },
    {
      "cell_type": "markdown",
      "metadata": {
        "id": "h0WckENt-wZu"
      },
      "source": [
        "Реализуйте при помощи pyTorch функцию, которая возвращает сумму (x.sum()) элементов тензора X, строго превышающих значение limit, которое является входным значением алгоритма."
      ]
    },
    {
      "cell_type": "code",
      "metadata": {
        "colab": {
          "base_uri": "https://localhost:8080/"
        },
        "id": "DA0lPZ6v_MHk",
        "outputId": "c95ee11e-b044-43f4-8a6a-1fa021b23ba7"
      },
      "source": [
        "X = torch.tensor([[1, 2, 3], [4, 5, 6], [7, 8, 9]])\n",
        "\n",
        "print(\"Input data:\")\n",
        "mask = X>int(input())\n",
        "larger_than_limit_sum = X[mask].sum()\n",
        "\n",
        "print(\"\\nOut sum: {}\".format(larger_than_limit_sum))"
      ],
      "execution_count": 138,
      "outputs": [
        {
          "output_type": "stream",
          "text": [
            "Input data:\n",
            "2\n",
            "\n",
            "Out sum: 42\n"
          ],
          "name": "stdout"
        }
      ]
    },
    {
      "cell_type": "markdown",
      "metadata": {
        "id": "J_nhH9b3CRpE"
      },
      "source": [
        "Что будет в переменной x в результате выполнения следующего кода?\n"
      ]
    },
    {
      "cell_type": "code",
      "metadata": {
        "colab": {
          "base_uri": "https://localhost:8080/"
        },
        "id": "EjQzr18CCWhc",
        "outputId": "89925869-aec8-4f0a-d77e-c895d9e88ee0"
      },
      "source": [
        "import torch\n",
        "x = torch.tensor([[1, 2, 3], [4, 5, 6], [7, 8, 9]])\n",
        "y = x\n",
        "y[2] = torch.ones(3)\n"
      ],
      "execution_count": 141,
      "outputs": [
        {
          "output_type": "stream",
          "text": [
            "tensor([[1, 2, 3],\n",
            "        [4, 5, 6],\n",
            "        [1, 1, 1]])\n"
          ],
          "name": "stdout"
        }
      ]
    },
    {
      "cell_type": "markdown",
      "metadata": {
        "id": "Dbv5AIMkDVhE"
      },
      "source": [
        "```\n",
        "tensor([\n",
        "  [1, 2, 3],\n",
        "  [4, 5, 6],\n",
        "  [1, 1, 1]\n",
        "])\n",
        "```"
      ]
    },
    {
      "cell_type": "markdown",
      "metadata": {
        "id": "pHl23zg-Gpni"
      },
      "source": [
        "> **Преобразование numpay array в torch tenzor**\n",
        "\n",
        "`Переобразуем из int32 в int8`"
      ]
    },
    {
      "cell_type": "code",
      "metadata": {
        "colab": {
          "base_uri": "https://localhost:8080/"
        },
        "id": "O6Rl8--1G4Kx",
        "outputId": "dab96f6e-d1c1-45a8-839f-0f667bfeca4f"
      },
      "source": [
        "y = torch.from_numpy(A)\n",
        "print(y.char())"
      ],
      "execution_count": 152,
      "outputs": [
        {
          "output_type": "stream",
          "text": [
            "tensor([[1, 1, 1],\n",
            "        [1, 1, 1],\n",
            "        [1, 1, 1],\n",
            "        [1, 1, 1],\n",
            "        [1, 1, 1]], dtype=torch.int8)\n"
          ],
          "name": "stdout"
        }
      ]
    }
  ]
}
